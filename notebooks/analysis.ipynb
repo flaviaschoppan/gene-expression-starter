{
 "cells": [
  {
   "cell_type": "code",
   "execution_count": null,
   "id": "a30f70f4",
   "metadata": {},
   "outputs": [
    {
     "name": "stdout",
     "output_type": "stream",
     "text": [
      "Hello, World!\n"
     ]
    }
   ],
   "source": [
    "print(\"Hello, World!\")\n",
    "\n",
    "# 1) Import essential libraries\n",
    "import pandas as pd\n",
    "import numpy as np\n",
    "from sklearn.decomposition import PCA\n",
    "import matplotlib.pyplot as plt\n",
    "import seaborn as sns"
   ]
  },
  {
   "cell_type": "code",
   "execution_count": null,
   "id": "9b110dc0",
   "metadata": {},
   "outputs": [],
   "source": [
    "# 2) Define file paths in variables for easy maintenance\n",
    "counts_paths = r\"C:\\Users\\mccfs\\Desktop\\Flavia\\projects\\gene-expression-starter\\data\\counts.csv\"\n",
    "metadata_path = r\"C:\\Users\\mccfs\\Desktop\\Flavia\\projects\\gene-expression-starter\\data\\metadata.csv\"\n"
   ]
  },
  {
   "cell_type": "code",
   "execution_count": 2,
   "id": "768697df",
   "metadata": {},
   "outputs": [
    {
     "name": "stdout",
     "output_type": "stream",
     "text": [
      "c:\\Users\\mccfs\\Desktop\\Flavia\\projetos\\gene-expression-starter\\venv\\Scripts\\python.exe\n"
     ]
    }
   ],
   "source": [
    "import sys\n",
    "print(sys.executable)"
   ]
  },
  {
   "cell_type": "code",
   "execution_count": 3,
   "id": "9745535c-5065-483a-82eb-d14010cbe4d3",
   "metadata": {},
   "outputs": [
    {
     "name": "stdout",
     "output_type": "stream",
     "text": [
      "c:\\Users\\mccfs\\Desktop\\Flavia\\projetos\\gene-expression-starter\\notebooks\n"
     ]
    }
   ],
   "source": [
    "import os\n",
    "print(os.getcwd())"
   ]
  },
  {
   "cell_type": "code",
   "execution_count": null,
   "id": "6a3c0ef5",
   "metadata": {},
   "outputs": [
    {
     "name": "stdout",
     "output_type": "stream",
     "text": [
      "       sample_A_rep1  sample_A_rep2  sample_B_rep1  sample_B_rep2\n",
      "gene                                                             \n",
      "TP53             100             95            200            180\n",
      "BRCA1             50             60             55             58\n",
      "SOX9               0              1              2              3\n",
      "MYC              300            320            290            310\n",
      "              condition\n",
      "sample                 \n",
      "sample_A_rep1         A\n",
      "sample_A_rep2         A\n",
      "sample_B_rep1         B\n",
      "sample_B_rep2         B\n"
     ]
    }
   ],
   "source": [
    "import pandas as pd\n",
    "\n",
    "# Sempre use skipinitialspace para pular espaços após vírgula (se tiver)\n",
    "counts = pd.read_csv(r\"C:\\Users\\mccfs\\Desktop\\Flavia\\projetos\\gene-expression-starter\\data\\counts.csv\", index_col='gene', skipinitialspace=True)\n",
    "metadata = pd.read_csv(r\"C:\\Users\\mccfs\\Desktop\\Flavia\\projetos\\gene-expression-starter\\data\\metadata.csv\", index_col='sample', skipinitialspace=True)\n",
    "\n",
    "print(counts.head())\n",
    "print(metadata.head())\n"
   ]
  },
  {
   "cell_type": "code",
   "execution_count": null,
   "id": "e85736fc",
   "metadata": {},
   "outputs": [],
   "source": []
  }
 ],
 "metadata": {
  "kernelspec": {
   "display_name": "venv",
   "language": "python",
   "name": "python3"
  },
  "language_info": {
   "codemirror_mode": {
    "name": "ipython",
    "version": 3
   },
   "file_extension": ".py",
   "mimetype": "text/x-python",
   "name": "python",
   "nbconvert_exporter": "python",
   "pygments_lexer": "ipython3",
   "version": "3.13.6"
  }
 },
 "nbformat": 4,
 "nbformat_minor": 5
}
